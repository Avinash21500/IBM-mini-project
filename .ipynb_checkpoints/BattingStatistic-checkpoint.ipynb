{
 "cells": [
  {
   "cell_type": "markdown",
   "metadata": {},
   "source": [
    "# Importing libraries"
   ]
  },
  {
   "cell_type": "code",
   "execution_count": 1,
   "metadata": {},
   "outputs": [],
   "source": [
    "import numpy as np\n",
    "import pandas as pd"
   ]
  },
  {
   "cell_type": "code",
   "execution_count": 2,
   "metadata": {},
   "outputs": [],
   "source": [
    "import matplotlib.pyplot as plt\n",
    "import seaborn as sns"
   ]
  },
  {
   "cell_type": "code",
   "execution_count": 3,
   "metadata": {},
   "outputs": [],
   "source": [
    "sns.set_style('white')"
   ]
  },
  {
   "cell_type": "code",
   "execution_count": 4,
   "metadata": {},
   "outputs": [],
   "source": [
    "%matplotlib inline"
   ]
  },
  {
   "cell_type": "markdown",
   "metadata": {},
   "source": [
    "# Importing dataset"
   ]
  },
  {
   "cell_type": "code",
   "execution_count": 5,
   "metadata": {},
   "outputs": [],
   "source": [
    "df=pd.read_csv(\"Baseball.txt\",delimiter='\\s+', index_col=False)"
   ]
  },
  {
   "cell_type": "code",
   "execution_count": 6,
   "metadata": {},
   "outputs": [
    {
     "data": {
      "text/html": [
       "<div>\n",
       "<style scoped>\n",
       "    .dataframe tbody tr th:only-of-type {\n",
       "        vertical-align: middle;\n",
       "    }\n",
       "\n",
       "    .dataframe tbody tr th {\n",
       "        vertical-align: top;\n",
       "    }\n",
       "\n",
       "    .dataframe thead th {\n",
       "        text-align: right;\n",
       "    }\n",
       "</style>\n",
       "<table border=\"1\" class=\"dataframe\">\n",
       "  <thead>\n",
       "    <tr style=\"text-align: right;\">\n",
       "      <th></th>\n",
       "      <th>firstname</th>\n",
       "      <th>lastname</th>\n",
       "      <th>age</th>\n",
       "      <th>team</th>\n",
       "      <th>games</th>\n",
       "      <th>at_bats</th>\n",
       "      <th>runs</th>\n",
       "      <th>hits</th>\n",
       "      <th>doubles</th>\n",
       "      <th>triples</th>\n",
       "      <th>homeruns</th>\n",
       "      <th>RBIs</th>\n",
       "      <th>walks</th>\n",
       "      <th>strikeouts</th>\n",
       "      <th>bat_ave</th>\n",
       "      <th>on_base_pct</th>\n",
       "      <th>slugging_pct</th>\n",
       "      <th>stolen_bases</th>\n",
       "      <th>caught_stealing</th>\n",
       "    </tr>\n",
       "  </thead>\n",
       "  <tbody>\n",
       "    <tr>\n",
       "      <th>0</th>\n",
       "      <td>Alfonso</td>\n",
       "      <td>Soriano</td>\n",
       "      <td>24</td>\n",
       "      <td>NYY</td>\n",
       "      <td>156</td>\n",
       "      <td>696</td>\n",
       "      <td>128</td>\n",
       "      <td>209</td>\n",
       "      <td>51</td>\n",
       "      <td>2</td>\n",
       "      <td>39</td>\n",
       "      <td>102</td>\n",
       "      <td>23</td>\n",
       "      <td>157</td>\n",
       "      <td>0.300</td>\n",
       "      <td>0.332</td>\n",
       "      <td>0.547</td>\n",
       "      <td>41</td>\n",
       "      <td>13</td>\n",
       "    </tr>\n",
       "    <tr>\n",
       "      <th>1</th>\n",
       "      <td>Miguel</td>\n",
       "      <td>Tejada</td>\n",
       "      <td>26</td>\n",
       "      <td>OAK</td>\n",
       "      <td>162</td>\n",
       "      <td>662</td>\n",
       "      <td>108</td>\n",
       "      <td>204</td>\n",
       "      <td>30</td>\n",
       "      <td>0</td>\n",
       "      <td>34</td>\n",
       "      <td>131</td>\n",
       "      <td>38</td>\n",
       "      <td>84</td>\n",
       "      <td>0.308</td>\n",
       "      <td>0.354</td>\n",
       "      <td>0.508</td>\n",
       "      <td>7</td>\n",
       "      <td>2</td>\n",
       "    </tr>\n",
       "    <tr>\n",
       "      <th>2</th>\n",
       "      <td>*Ichiro</td>\n",
       "      <td>Suzuki</td>\n",
       "      <td>28</td>\n",
       "      <td>SEA</td>\n",
       "      <td>157</td>\n",
       "      <td>647</td>\n",
       "      <td>111</td>\n",
       "      <td>208</td>\n",
       "      <td>27</td>\n",
       "      <td>8</td>\n",
       "      <td>8</td>\n",
       "      <td>51</td>\n",
       "      <td>68</td>\n",
       "      <td>62</td>\n",
       "      <td>0.321</td>\n",
       "      <td>0.388</td>\n",
       "      <td>0.425</td>\n",
       "      <td>31</td>\n",
       "      <td>15</td>\n",
       "    </tr>\n",
       "    <tr>\n",
       "      <th>3</th>\n",
       "      <td>Derek</td>\n",
       "      <td>Jeter</td>\n",
       "      <td>28</td>\n",
       "      <td>NYY</td>\n",
       "      <td>157</td>\n",
       "      <td>644</td>\n",
       "      <td>124</td>\n",
       "      <td>191</td>\n",
       "      <td>26</td>\n",
       "      <td>0</td>\n",
       "      <td>18</td>\n",
       "      <td>75</td>\n",
       "      <td>73</td>\n",
       "      <td>114</td>\n",
       "      <td>0.297</td>\n",
       "      <td>0.373</td>\n",
       "      <td>0.421</td>\n",
       "      <td>32</td>\n",
       "      <td>3</td>\n",
       "    </tr>\n",
       "    <tr>\n",
       "      <th>4</th>\n",
       "      <td>*Garret</td>\n",
       "      <td>Anderson</td>\n",
       "      <td>30</td>\n",
       "      <td>ANA</td>\n",
       "      <td>158</td>\n",
       "      <td>638</td>\n",
       "      <td>93</td>\n",
       "      <td>195</td>\n",
       "      <td>56</td>\n",
       "      <td>3</td>\n",
       "      <td>29</td>\n",
       "      <td>123</td>\n",
       "      <td>30</td>\n",
       "      <td>80</td>\n",
       "      <td>0.306</td>\n",
       "      <td>0.332</td>\n",
       "      <td>0.539</td>\n",
       "      <td>6</td>\n",
       "      <td>4</td>\n",
       "    </tr>\n",
       "  </tbody>\n",
       "</table>\n",
       "</div>"
      ],
      "text/plain": [
       "  firstname  lastname  age team  games  at_bats  runs  hits  doubles  triples  \\\n",
       "0   Alfonso   Soriano   24  NYY    156      696   128   209       51        2   \n",
       "1    Miguel    Tejada   26  OAK    162      662   108   204       30        0   \n",
       "2   *Ichiro    Suzuki   28  SEA    157      647   111   208       27        8   \n",
       "3     Derek     Jeter   28  NYY    157      644   124   191       26        0   \n",
       "4   *Garret  Anderson   30  ANA    158      638    93   195       56        3   \n",
       "\n",
       "   homeruns  RBIs  walks  strikeouts  bat_ave  on_base_pct  slugging_pct  \\\n",
       "0        39   102     23         157    0.300        0.332         0.547   \n",
       "1        34   131     38          84    0.308        0.354         0.508   \n",
       "2         8    51     68          62    0.321        0.388         0.425   \n",
       "3        18    75     73         114    0.297        0.373         0.421   \n",
       "4        29   123     30          80    0.306        0.332         0.539   \n",
       "\n",
       "   stolen_bases  caught_stealing  \n",
       "0            41               13  \n",
       "1             7                2  \n",
       "2            31               15  \n",
       "3            32                3  \n",
       "4             6                4  "
      ]
     },
     "execution_count": 6,
     "metadata": {},
     "output_type": "execute_result"
    }
   ],
   "source": [
    "df.head()"
   ]
  },
  {
   "cell_type": "markdown",
   "metadata": {},
   "source": [
    "**As name are not in proper format, so modifing first name**"
   ]
  },
  {
   "cell_type": "code",
   "execution_count": 7,
   "metadata": {},
   "outputs": [],
   "source": [
    "#import regularExpression Library\n",
    "import re"
   ]
  },
  {
   "cell_type": "code",
   "execution_count": 8,
   "metadata": {},
   "outputs": [],
   "source": [
    "df['firstname'] = df['firstname'].map(lambda x: re.sub(r'\\W+', '', x))"
   ]
  },
  {
   "cell_type": "markdown",
   "metadata": {},
   "source": [
    "droping null values"
   ]
  },
  {
   "cell_type": "code",
   "execution_count": 9,
   "metadata": {},
   "outputs": [],
   "source": [
    "df.dropna(inplace=True)"
   ]
  },
  {
   "cell_type": "code",
   "execution_count": 10,
   "metadata": {
    "scrolled": true
   },
   "outputs": [
    {
     "data": {
      "text/html": [
       "<div>\n",
       "<style scoped>\n",
       "    .dataframe tbody tr th:only-of-type {\n",
       "        vertical-align: middle;\n",
       "    }\n",
       "\n",
       "    .dataframe tbody tr th {\n",
       "        vertical-align: top;\n",
       "    }\n",
       "\n",
       "    .dataframe thead th {\n",
       "        text-align: right;\n",
       "    }\n",
       "</style>\n",
       "<table border=\"1\" class=\"dataframe\">\n",
       "  <thead>\n",
       "    <tr style=\"text-align: right;\">\n",
       "      <th></th>\n",
       "      <th>firstname</th>\n",
       "      <th>lastname</th>\n",
       "      <th>age</th>\n",
       "      <th>team</th>\n",
       "      <th>games</th>\n",
       "      <th>at_bats</th>\n",
       "      <th>runs</th>\n",
       "      <th>hits</th>\n",
       "      <th>doubles</th>\n",
       "      <th>triples</th>\n",
       "      <th>homeruns</th>\n",
       "      <th>RBIs</th>\n",
       "      <th>walks</th>\n",
       "      <th>strikeouts</th>\n",
       "      <th>bat_ave</th>\n",
       "      <th>on_base_pct</th>\n",
       "      <th>slugging_pct</th>\n",
       "      <th>stolen_bases</th>\n",
       "      <th>caught_stealing</th>\n",
       "    </tr>\n",
       "  </thead>\n",
       "  <tbody>\n",
       "    <tr>\n",
       "      <th>0</th>\n",
       "      <td>Alfonso</td>\n",
       "      <td>Soriano</td>\n",
       "      <td>24</td>\n",
       "      <td>NYY</td>\n",
       "      <td>156</td>\n",
       "      <td>696</td>\n",
       "      <td>128</td>\n",
       "      <td>209</td>\n",
       "      <td>51</td>\n",
       "      <td>2</td>\n",
       "      <td>39</td>\n",
       "      <td>102</td>\n",
       "      <td>23</td>\n",
       "      <td>157</td>\n",
       "      <td>0.300</td>\n",
       "      <td>0.332</td>\n",
       "      <td>0.547</td>\n",
       "      <td>41</td>\n",
       "      <td>13</td>\n",
       "    </tr>\n",
       "    <tr>\n",
       "      <th>1</th>\n",
       "      <td>Miguel</td>\n",
       "      <td>Tejada</td>\n",
       "      <td>26</td>\n",
       "      <td>OAK</td>\n",
       "      <td>162</td>\n",
       "      <td>662</td>\n",
       "      <td>108</td>\n",
       "      <td>204</td>\n",
       "      <td>30</td>\n",
       "      <td>0</td>\n",
       "      <td>34</td>\n",
       "      <td>131</td>\n",
       "      <td>38</td>\n",
       "      <td>84</td>\n",
       "      <td>0.308</td>\n",
       "      <td>0.354</td>\n",
       "      <td>0.508</td>\n",
       "      <td>7</td>\n",
       "      <td>2</td>\n",
       "    </tr>\n",
       "    <tr>\n",
       "      <th>2</th>\n",
       "      <td>Ichiro</td>\n",
       "      <td>Suzuki</td>\n",
       "      <td>28</td>\n",
       "      <td>SEA</td>\n",
       "      <td>157</td>\n",
       "      <td>647</td>\n",
       "      <td>111</td>\n",
       "      <td>208</td>\n",
       "      <td>27</td>\n",
       "      <td>8</td>\n",
       "      <td>8</td>\n",
       "      <td>51</td>\n",
       "      <td>68</td>\n",
       "      <td>62</td>\n",
       "      <td>0.321</td>\n",
       "      <td>0.388</td>\n",
       "      <td>0.425</td>\n",
       "      <td>31</td>\n",
       "      <td>15</td>\n",
       "    </tr>\n",
       "    <tr>\n",
       "      <th>3</th>\n",
       "      <td>Derek</td>\n",
       "      <td>Jeter</td>\n",
       "      <td>28</td>\n",
       "      <td>NYY</td>\n",
       "      <td>157</td>\n",
       "      <td>644</td>\n",
       "      <td>124</td>\n",
       "      <td>191</td>\n",
       "      <td>26</td>\n",
       "      <td>0</td>\n",
       "      <td>18</td>\n",
       "      <td>75</td>\n",
       "      <td>73</td>\n",
       "      <td>114</td>\n",
       "      <td>0.297</td>\n",
       "      <td>0.373</td>\n",
       "      <td>0.421</td>\n",
       "      <td>32</td>\n",
       "      <td>3</td>\n",
       "    </tr>\n",
       "    <tr>\n",
       "      <th>4</th>\n",
       "      <td>Garret</td>\n",
       "      <td>Anderson</td>\n",
       "      <td>30</td>\n",
       "      <td>ANA</td>\n",
       "      <td>158</td>\n",
       "      <td>638</td>\n",
       "      <td>93</td>\n",
       "      <td>195</td>\n",
       "      <td>56</td>\n",
       "      <td>3</td>\n",
       "      <td>29</td>\n",
       "      <td>123</td>\n",
       "      <td>30</td>\n",
       "      <td>80</td>\n",
       "      <td>0.306</td>\n",
       "      <td>0.332</td>\n",
       "      <td>0.539</td>\n",
       "      <td>6</td>\n",
       "      <td>4</td>\n",
       "    </tr>\n",
       "  </tbody>\n",
       "</table>\n",
       "</div>"
      ],
      "text/plain": [
       "  firstname  lastname  age team  games  at_bats  runs  hits  doubles  triples  \\\n",
       "0   Alfonso   Soriano   24  NYY    156      696   128   209       51        2   \n",
       "1    Miguel    Tejada   26  OAK    162      662   108   204       30        0   \n",
       "2    Ichiro    Suzuki   28  SEA    157      647   111   208       27        8   \n",
       "3     Derek     Jeter   28  NYY    157      644   124   191       26        0   \n",
       "4    Garret  Anderson   30  ANA    158      638    93   195       56        3   \n",
       "\n",
       "   homeruns  RBIs  walks  strikeouts  bat_ave  on_base_pct  slugging_pct  \\\n",
       "0        39   102     23         157    0.300        0.332         0.547   \n",
       "1        34   131     38          84    0.308        0.354         0.508   \n",
       "2         8    51     68          62    0.321        0.388         0.425   \n",
       "3        18    75     73         114    0.297        0.373         0.421   \n",
       "4        29   123     30          80    0.306        0.332         0.539   \n",
       "\n",
       "   stolen_bases  caught_stealing  \n",
       "0            41               13  \n",
       "1             7                2  \n",
       "2            31               15  \n",
       "3            32                3  \n",
       "4             6                4  "
      ]
     },
     "execution_count": 10,
     "metadata": {},
     "output_type": "execute_result"
    }
   ],
   "source": [
    "df.head()"
   ]
  },
  {
   "cell_type": "markdown",
   "metadata": {},
   "source": [
    "**Scatter plot of Homeruns Vs Batting average**"
   ]
  },
  {
   "cell_type": "code",
   "execution_count": 11,
   "metadata": {},
   "outputs": [
    {
     "data": {
      "text/plain": [
       "Text(0, 0.5, 'batting average')"
      ]
     },
     "execution_count": 11,
     "metadata": {},
     "output_type": "execute_result"
    },
    {
     "data": {
      "image/png": "[encoded data removed]",
      "text/plain": [
       "<Figure size 432x288 with 1 Axes>"
      ]
     },
     "metadata": {
      "needs_background": "light"
     },
     "output_type": "display_data"
    }
   ],
   "source": [
    "plt.scatter(x=df['homeruns'],y=df['bat_ave'])\n",
    "plt.xlabel(\"homeruns\")\n",
    "plt.ylabel(\"batting average\")"
   ]
  },
  {
   "cell_type": "markdown",
   "metadata": {},
   "source": [
    "finding the relationship between variables"
   ]
  },
  {
   "cell_type": "code",
   "execution_count": 15,
   "metadata": {},
   "outputs": [
    {
     "name": "stdout",
     "output_type": "stream",
     "text": [
      "                      age     games   at_bats      runs      hits   doubles  \\\n",
      "age              1.000000  0.168663  0.135811  0.109489  0.124400  0.121065   \n",
      "games            0.168663  1.000000  0.978098  0.933134  0.957060  0.915312   \n",
      "at_bats          0.135811  0.978098  1.000000  0.960795  0.988312  0.944611   \n",
      "runs             0.109489  0.933134  0.960795  1.000000  0.970765  0.926706   \n",
      "hits             0.124400  0.957060  0.988312  0.970765  1.000000  0.952266   \n",
      "doubles          0.121065  0.915312  0.944611  0.926706  0.952266  1.000000   \n",
      "triples         -0.029373  0.600462  0.618892  0.602933  0.610929  0.590965   \n",
      "homeruns         0.103839  0.777050  0.805697  0.858720  0.820683  0.801372   \n",
      "RBIs             0.135010  0.900033  0.926604  0.935911  0.938827  0.914569   \n",
      "walks            0.228914  0.830118  0.828207  0.866749  0.819018  0.782140   \n",
      "strikeouts       0.098688  0.885486  0.886069  0.861007  0.853098  0.841201   \n",
      "bat_ave          0.071556  0.030684  0.064032  0.101266  0.114373  0.107132   \n",
      "on_base_pct      0.146353  0.150116  0.167005  0.221830  0.208162  0.197841   \n",
      "slugging_pct     0.095528  0.281645  0.305557  0.359735  0.350286  0.368192   \n",
      "stolen_bases     0.001162  0.536437  0.575979  0.633919  0.579851  0.539173   \n",
      "caught_stealing  0.013834  0.591924  0.620513  0.630682  0.611238  0.566986   \n",
      "\n",
      "                  triples  homeruns      RBIs     walks  strikeouts   bat_ave  \\\n",
      "age             -0.029373  0.103839  0.135010  0.228914    0.098688  0.071556   \n",
      "games            0.600462  0.777050  0.900033  0.830118    0.885486  0.030684   \n",
      "at_bats          0.618892  0.805697  0.926604  0.828207    0.886069  0.064032   \n",
      "runs             0.602933  0.858720  0.935911  0.866749    0.861007  0.101266   \n",
      "hits             0.610929  0.820683  0.938827  0.819018    0.853098  0.114373   \n",
      "doubles          0.590965  0.801372  0.914569  0.782140    0.841201  0.107132   \n",
      "triples          1.000000  0.315777  0.458546  0.441665    0.505970  0.047655   \n",
      "homeruns         0.315777  1.000000  0.935751  0.818914    0.820127  0.101257   \n",
      "RBIs             0.458546  0.935751  1.000000  0.855161    0.863152  0.108585   \n",
      "walks            0.441665  0.818914  0.855161  1.000000    0.826918  0.059501   \n",
      "strikeouts       0.505970  0.820127  0.863152  0.826918    1.000000  0.009869   \n",
      "bat_ave          0.047655  0.101257  0.108585  0.059501    0.009869  1.000000   \n",
      "on_base_pct      0.096238  0.219996  0.220234  0.266541    0.141766  0.902504   \n",
      "slugging_pct     0.168898  0.443033  0.404800  0.323469    0.298248  0.776875   \n",
      "stolen_bases     0.628727  0.357548  0.438895  0.453952    0.497811  0.047353   \n",
      "caught_stealing  0.628616  0.382170  0.483108  0.472962    0.515811  0.035684   \n",
      "\n",
      "                 on_base_pct  slugging_pct  stolen_bases  caught_stealing  \n",
      "age                 0.146353      0.095528      0.001162         0.013834  \n",
      "games               0.150116      0.281645      0.536437         0.591924  \n",
      "at_bats             0.167005      0.305557      0.575979         0.620513  \n",
      "runs                0.221830      0.359735      0.633919         0.630682  \n",
      "hits                0.208162      0.350286      0.579851         0.611238  \n",
      "doubles             0.197841      0.368192      0.539173         0.566986  \n",
      "triples             0.096238      0.168898      0.628727         0.628616  \n",
      "homeruns            0.219996      0.443033      0.357548         0.382170  \n",
      "RBIs                0.220234      0.404800      0.438895         0.483108  \n",
      "walks               0.266541      0.323469      0.453952         0.472962  \n",
      "strikeouts          0.141766      0.298248      0.497811         0.515811  \n",
      "bat_ave             0.902504      0.776875      0.047353         0.035684  \n",
      "on_base_pct         1.000000      0.774523      0.106669         0.099183  \n",
      "slugging_pct        0.774523      1.000000      0.127839         0.137983  \n",
      "stolen_bases        0.106669      0.127839      1.000000         0.739827  \n",
      "caught_stealing     0.099183      0.137983      0.739827         1.000000  \n"
     ]
    }
   ],
   "source": [
    "print(df.corr())"
   ]
  },
  {
   "cell_type": "code",
   "execution_count": 17,
   "metadata": {},
   "outputs": [
    {
     "name": "stdout",
     "output_type": "stream",
     "text": [
      "Column Names are------> ['firstname', 'lastname', 'age', 'team', 'games', 'at_bats', 'runs', 'hits', 'doubles', 'triples', 'homeruns', 'RBIs', 'walks', 'strikeouts', 'bat_ave', 'on_base_pct', 'slugging_pct', 'stolen_bases', 'caught_stealing']\n",
      "\n",
      "\n",
      "\n",
      "The Pearsons correlation is: 0.978  between games and at_bats and they are highly correalted with each other.\n",
      "\n",
      "The Pearsons correlation is: 0.933  between games and runs and they are highly correalted with each other.\n",
      "\n",
      "The Pearsons correlation is: 0.957  between games and hits and they are highly correalted with each other.\n",
      "\n",
      "The Pearsons correlation is: 0.915  between games and doubles and they are highly correalted with each other.\n",
      "\n",
      "The Pearsons correlation is: 0.600  between games and triples and they are highly correalted with each other.\n",
      "\n",
      "The Pearsons correlation is: 0.777  between games and homeruns and they are highly correalted with each other.\n",
      "\n",
      "The Pearsons correlation is: 0.900  between games and RBIs and they are highly correalted with each other.\n",
      "\n",
      "The Pearsons correlation is: 0.830  between games and walks and they are highly correalted with each other.\n",
      "\n",
      "The Pearsons correlation is: 0.885  between games and strikeouts and they are highly correalted with each other.\n",
      "\n",
      "The Pearsons correlation is: 0.536  between games and stolen_bases and they are highly correalted with each other.\n",
      "\n",
      "The Pearsons correlation is: 0.592  between games and caught_stealing and they are highly correalted with each other.\n",
      "\n",
      "The Pearsons correlation is: 0.978  between at_bats and games and they are highly correalted with each other.\n",
      "\n",
      "The Pearsons correlation is: 0.961  between at_bats and runs and they are highly correalted with each other.\n",
      "\n",
      "The Pearsons correlation is: 0.988  between at_bats and hits and they are highly correalted with each other.\n",
      "\n",
      "The Pearsons correlation is: 0.945  between at_bats and doubles and they are highly correalted with each other.\n",
      "\n",
      "The Pearsons correlation is: 0.619  between at_bats and triples and they are highly correalted with each other.\n",
      "\n",
      "The Pearsons correlation is: 0.806  between at_bats and homeruns and they are highly correalted with each other.\n",
      "\n",
      "The Pearsons correlation is: 0.927  between at_bats and RBIs and they are highly correalted with each other.\n",
      "\n",
      "The Pearsons correlation is: 0.828  between at_bats and walks and they are highly correalted with each other.\n",
      "\n",
      "The Pearsons correlation is: 0.886  between at_bats and strikeouts and they are highly correalted with each other.\n",
      "\n",
      "The Pearsons correlation is: 0.576  between at_bats and stolen_bases and they are highly correalted with each other.\n",
      "\n",
      "The Pearsons correlation is: 0.621  between at_bats and caught_stealing and they are highly correalted with each other.\n",
      "\n",
      "The Pearsons correlation is: 0.933  between runs and games and they are highly correalted with each other.\n",
      "\n",
      "The Pearsons correlation is: 0.961  between runs and at_bats and they are highly correalted with each other.\n",
      "\n",
      "The Pearsons correlation is: 0.971  between runs and hits and they are highly correalted with each other.\n",
      "\n",
      "The Pearsons correlation is: 0.927  between runs and doubles and they are highly correalted with each other.\n",
      "\n",
      "The Pearsons correlation is: 0.603  between runs and triples and they are highly correalted with each other.\n",
      "\n",
      "The Pearsons correlation is: 0.859  between runs and homeruns and they are highly correalted with each other.\n",
      "\n",
      "The Pearsons correlation is: 0.936  between runs and RBIs and they are highly correalted with each other.\n",
      "\n",
      "The Pearsons correlation is: 0.867  between runs and walks and they are highly correalted with each other.\n",
      "\n",
      "The Pearsons correlation is: 0.861  between runs and strikeouts and they are highly correalted with each other.\n",
      "\n",
      "The Pearsons correlation is: 0.634  between runs and stolen_bases and they are highly correalted with each other.\n",
      "\n",
      "The Pearsons correlation is: 0.631  between runs and caught_stealing and they are highly correalted with each other.\n",
      "\n",
      "The Pearsons correlation is: 0.957  between hits and games and they are highly correalted with each other.\n",
      "\n",
      "The Pearsons correlation is: 0.988  between hits and at_bats and they are highly correalted with each other.\n",
      "\n",
      "The Pearsons correlation is: 0.971  between hits and runs and they are highly correalted with each other.\n",
      "\n",
      "The Pearsons correlation is: 0.952  between hits and doubles and they are highly correalted with each other.\n",
      "\n",
      "The Pearsons correlation is: 0.611  between hits and triples and they are highly correalted with each other.\n",
      "\n",
      "The Pearsons correlation is: 0.821  between hits and homeruns and they are highly correalted with each other.\n",
      "\n",
      "The Pearsons correlation is: 0.939  between hits and RBIs and they are highly correalted with each other.\n",
      "\n",
      "The Pearsons correlation is: 0.819  between hits and walks and they are highly correalted with each other.\n",
      "\n",
      "The Pearsons correlation is: 0.853  between hits and strikeouts and they are highly correalted with each other.\n",
      "\n",
      "The Pearsons correlation is: 0.580  between hits and stolen_bases and they are highly correalted with each other.\n",
      "\n",
      "The Pearsons correlation is: 0.611  between hits and caught_stealing and they are highly correalted with each other.\n",
      "\n",
      "The Pearsons correlation is: 0.915  between doubles and games and they are highly correalted with each other.\n",
      "\n",
      "The Pearsons correlation is: 0.945  between doubles and at_bats and they are highly correalted with each other.\n",
      "\n",
      "The Pearsons correlation is: 0.927  between doubles and runs and they are highly correalted with each other.\n",
      "\n",
      "The Pearsons correlation is: 0.952  between doubles and hits and they are highly correalted with each other.\n",
      "\n",
      "The Pearsons correlation is: 0.591  between doubles and triples and they are highly correalted with each other.\n",
      "\n",
      "The Pearsons correlation is: 0.801  between doubles and homeruns and they are highly correalted with each other.\n",
      "\n",
      "The Pearsons correlation is: 0.915  between doubles and RBIs and they are highly correalted with each other.\n",
      "\n",
      "The Pearsons correlation is: 0.782  between doubles and walks and they are highly correalted with each other.\n",
      "\n",
      "The Pearsons correlation is: 0.841  between doubles and strikeouts and they are highly correalted with each other.\n",
      "\n",
      "The Pearsons correlation is: 0.539  between doubles and stolen_bases and they are highly correalted with each other.\n",
      "\n",
      "The Pearsons correlation is: 0.567  between doubles and caught_stealing and they are highly correalted with each other.\n",
      "\n",
      "The Pearsons correlation is: 0.600  between triples and games and they are highly correalted with each other.\n",
      "\n",
      "The Pearsons correlation is: 0.619  between triples and at_bats and they are highly correalted with each other.\n",
      "\n",
      "The Pearsons correlation is: 0.603  between triples and runs and they are highly correalted with each other.\n",
      "\n",
      "The Pearsons correlation is: 0.611  between triples and hits and they are highly correalted with each other.\n",
      "\n",
      "The Pearsons correlation is: 0.591  between triples and doubles and they are highly correalted with each other.\n",
      "\n",
      "The Pearsons correlation is: 0.506  between triples and strikeouts and they are highly correalted with each other.\n",
      "\n",
      "The Pearsons correlation is: 0.629  between triples and stolen_bases and they are highly correalted with each other.\n",
      "\n",
      "The Pearsons correlation is: 0.629  between triples and caught_stealing and they are highly correalted with each other.\n",
      "\n",
      "The Pearsons correlation is: 0.777  between homeruns and games and they are highly correalted with each other.\n",
      "\n",
      "The Pearsons correlation is: 0.806  between homeruns and at_bats and they are highly correalted with each other.\n",
      "\n",
      "The Pearsons correlation is: 0.859  between homeruns and runs and they are highly correalted with each other.\n",
      "\n",
      "The Pearsons correlation is: 0.821  between homeruns and hits and they are highly correalted with each other.\n",
      "\n",
      "The Pearsons correlation is: 0.801  between homeruns and doubles and they are highly correalted with each other.\n",
      "\n",
      "The Pearsons correlation is: 0.936  between homeruns and RBIs and they are highly correalted with each other.\n",
      "\n",
      "The Pearsons correlation is: 0.819  between homeruns and walks and they are highly correalted with each other.\n",
      "\n",
      "The Pearsons correlation is: 0.820  between homeruns and strikeouts and they are highly correalted with each other.\n",
      "\n",
      "The Pearsons correlation is: 0.900  between RBIs and games and they are highly correalted with each other.\n",
      "\n",
      "The Pearsons correlation is: 0.927  between RBIs and at_bats and they are highly correalted with each other.\n",
      "\n",
      "The Pearsons correlation is: 0.936  between RBIs and runs and they are highly correalted with each other.\n",
      "\n",
      "The Pearsons correlation is: 0.939  between RBIs and hits and they are highly correalted with each other.\n",
      "\n",
      "The Pearsons correlation is: 0.915  between RBIs and doubles and they are highly correalted with each other.\n",
      "\n",
      "The Pearsons correlation is: 0.936  between RBIs and homeruns and they are highly correalted with each other.\n",
      "\n",
      "The Pearsons correlation is: 0.855  between RBIs and walks and they are highly correalted with each other.\n",
      "\n",
      "The Pearsons correlation is: 0.863  between RBIs and strikeouts and they are highly correalted with each other.\n",
      "\n",
      "The Pearsons correlation is: 0.830  between walks and games and they are highly correalted with each other.\n",
      "\n",
      "The Pearsons correlation is: 0.828  between walks and at_bats and they are highly correalted with each other.\n",
      "\n",
      "The Pearsons correlation is: 0.867  between walks and runs and they are highly correalted with each other.\n",
      "\n",
      "The Pearsons correlation is: 0.819  between walks and hits and they are highly correalted with each other.\n",
      "\n",
      "The Pearsons correlation is: 0.782  between walks and doubles and they are highly correalted with each other.\n",
      "\n",
      "The Pearsons correlation is: 0.819  between walks and homeruns and they are highly correalted with each other.\n",
      "\n",
      "The Pearsons correlation is: 0.855  between walks and RBIs and they are highly correalted with each other.\n",
      "\n",
      "The Pearsons correlation is: 0.827  between walks and strikeouts and they are highly correalted with each other.\n",
      "\n",
      "The Pearsons correlation is: 0.885  between strikeouts and games and they are highly correalted with each other.\n",
      "\n",
      "The Pearsons correlation is: 0.886  between strikeouts and at_bats and they are highly correalted with each other.\n",
      "\n",
      "The Pearsons correlation is: 0.861  between strikeouts and runs and they are highly correalted with each other.\n",
      "\n",
      "The Pearsons correlation is: 0.853  between strikeouts and hits and they are highly correalted with each other.\n",
      "\n",
      "The Pearsons correlation is: 0.841  between strikeouts and doubles and they are highly correalted with each other.\n",
      "\n",
      "The Pearsons correlation is: 0.506  between strikeouts and triples and they are highly correalted with each other.\n",
      "\n",
      "The Pearsons correlation is: 0.820  between strikeouts and homeruns and they are highly correalted with each other.\n",
      "\n",
      "The Pearsons correlation is: 0.863  between strikeouts and RBIs and they are highly correalted with each other.\n",
      "\n",
      "The Pearsons correlation is: 0.827  between strikeouts and walks and they are highly correalted with each other.\n",
      "\n",
      "The Pearsons correlation is: 0.516  between strikeouts and caught_stealing and they are highly correalted with each other.\n",
      "\n",
      "The Pearsons correlation is: 0.903  between bat_ave and on_base_pct and they are highly correalted with each other.\n",
      "\n",
      "The Pearsons correlation is: 0.777  between bat_ave and slugging_pct and they are highly correalted with each other.\n",
      "\n",
      "The Pearsons correlation is: 0.903  between on_base_pct and bat_ave and they are highly correalted with each other.\n",
      "\n",
      "The Pearsons correlation is: 0.775  between on_base_pct and slugging_pct and they are highly correalted with each other.\n",
      "\n",
      "The Pearsons correlation is: 0.777  between slugging_pct and bat_ave and they are highly correalted with each other.\n",
      "\n",
      "The Pearsons correlation is: 0.775  between slugging_pct and on_base_pct and they are highly correalted with each other.\n",
      "\n",
      "The Pearsons correlation is: 0.536  between stolen_bases and games and they are highly correalted with each other.\n",
      "\n",
      "The Pearsons correlation is: 0.576  between stolen_bases and at_bats and they are highly correalted with each other.\n",
      "\n",
      "The Pearsons correlation is: 0.634  between stolen_bases and runs and they are highly correalted with each other.\n",
      "\n",
      "The Pearsons correlation is: 0.580  between stolen_bases and hits and they are highly correalted with each other.\n",
      "\n",
      "The Pearsons correlation is: 0.539  between stolen_bases and doubles and they are highly correalted with each other.\n",
      "\n",
      "The Pearsons correlation is: 0.629  between stolen_bases and triples and they are highly correalted with each other.\n",
      "\n",
      "The Pearsons correlation is: 0.740  between stolen_bases and caught_stealing and they are highly correalted with each other.\n",
      "\n",
      "The Pearsons correlation is: 0.592  between caught_stealing and games and they are highly correalted with each other.\n",
      "\n",
      "The Pearsons correlation is: 0.621  between caught_stealing and at_bats and they are highly correalted with each other.\n",
      "\n",
      "The Pearsons correlation is: 0.631  between caught_stealing and runs and they are highly correalted with each other.\n",
      "\n",
      "The Pearsons correlation is: 0.611  between caught_stealing and hits and they are highly correalted with each other.\n",
      "\n",
      "The Pearsons correlation is: 0.567  between caught_stealing and doubles and they are highly correalted with each other.\n",
      "\n",
      "The Pearsons correlation is: 0.629  between caught_stealing and triples and they are highly correalted with each other.\n",
      "\n",
      "The Pearsons correlation is: 0.516  between caught_stealing and strikeouts and they are highly correalted with each other.\n",
      "\n",
      "The Pearsons correlation is: 0.740  between caught_stealing and stolen_bases and they are highly correalted with each other.\n",
      "\n"
     ]
    }
   ],
   "source": [
    "from numpy import cov\n",
    "from scipy.stats import pearsonr\n",
    "arr=list(df.columns)\n",
    "print(\"Column Names are------>\",arr)\n",
    "print(\"\\n\\n\")\n",
    "trr=[0,1,3]\n",
    "for i in range(0,len(df.columns)):\n",
    "    if((i in trr)==False):\n",
    "        for j in range(0,len(df.columns)):\n",
    "            if((j in trr)==False):\n",
    "                corr, _ = pearsonr(df[arr[i]],df[arr[j]])\n",
    "                if(corr>.5 and arr[i]!=arr[j]):\n",
    "                    print('The',end=\" \")\n",
    "                    print('Pearsons correlation is: %.3f' % corr,end=\" \")\n",
    "                    print(\" between \"+arr[i]+\" and \"+arr[j]+\" and they are highly correalted with each other.\")\n",
    "                    print(\"\")"
   ]
  },
  {
   "cell_type": "markdown",
   "metadata": {},
   "source": [
    "**variability of the number of home runs**"
   ]
  },
  {
   "cell_type": "code",
   "execution_count": 17,
   "metadata": {},
   "outputs": [
    {
     "data": {
      "text/plain": [
       "<matplotlib.axes._subplots.AxesSubplot at 0x1a40c8cf208>"
      ]
     },
     "execution_count": 17,
     "metadata": {},
     "output_type": "execute_result"
    },
    {
     "data": {
      "image/png": "[encoded data removed]",
      "text/plain": [
       "<Figure size 432x288 with 1 Axes>"
      ]
     },
     "metadata": {
      "needs_background": "light"
     },
     "output_type": "display_data"
    }
   ],
   "source": [
    "sns.boxplot(df[df['homeruns']>df['bat_ave'].mean()]['homeruns'])"
   ]
  },
  {
   "cell_type": "markdown",
   "metadata": {},
   "source": [
    "**variability of the number of batting average**"
   ]
  },
  {
   "cell_type": "code",
   "execution_count": 18,
   "metadata": {},
   "outputs": [
    {
     "data": {
      "text/plain": [
       "<matplotlib.axes._subplots.AxesSubplot at 0x1a40e888a88>"
      ]
     },
     "execution_count": 18,
     "metadata": {},
     "output_type": "execute_result"
    },
    {
     "data": {
      "image/png": "[encoded data removed]",
      "text/plain": [
       "<Figure size 432x288 with 1 Axes>"
      ]
     },
     "metadata": {
      "needs_background": "light"
     },
     "output_type": "display_data"
    }
   ],
   "source": [
    "sns.boxplot(df['bat_ave'])"
   ]
  },
  {
   "cell_type": "code",
   "execution_count": 19,
   "metadata": {},
   "outputs": [
    {
     "name": "stderr",
     "output_type": "stream",
     "text": [
      "E:\\Anaconda\\lib\\site-packages\\ipykernel_launcher.py:1: UserWarning:\n",
      "\n",
      "Boolean Series key will be reindexed to match DataFrame index.\n",
      "\n"
     ]
    },
    {
     "data": {
      "text/plain": [
       "<matplotlib.axes._subplots.AxesSubplot at 0x1a40e8f2588>"
      ]
     },
     "execution_count": 19,
     "metadata": {},
     "output_type": "execute_result"
    },
    {
     "data": {
      "image/png": "[encoded data removed]",
      "text/plain": [
       "<Figure size 432x288 with 1 Axes>"
      ]
     },
     "metadata": {
      "needs_background": "light"
     },
     "output_type": "display_data"
    }
   ],
   "source": [
    "sns.boxplot(df[df['bat_ave']<0.375][df['bat_ave']>0.2]['bat_ave'])"
   ]
  },
  {
   "cell_type": "markdown",
   "metadata": {
    "scrolled": true
   },
   "source": [
    "# Making a model with given Data Set"
   ]
  },
  {
   "cell_type": "code",
   "execution_count": 18,
   "metadata": {},
   "outputs": [],
   "source": [
    "from sklearn.linear_model import LinearRegression"
   ]
  },
  {
   "cell_type": "code",
   "execution_count": 19,
   "metadata": {},
   "outputs": [
    {
     "name": "stderr",
     "output_type": "stream",
     "text": [
      "E:\\Anaconda\\lib\\site-packages\\ipykernel_launcher.py:1: UserWarning: Boolean Series key will be reindexed to match DataFrame index.\n",
      "  \"\"\"Entry point for launching an IPython kernel.\n",
      "E:\\Anaconda\\lib\\site-packages\\ipykernel_launcher.py:2: UserWarning: Boolean Series key will be reindexed to match DataFrame index.\n",
      "  \n"
     ]
    }
   ],
   "source": [
    "X=np.array(df[df['bat_ave']<0.375][df['bat_ave']>0.2]['bat_ave']).reshape(-1, 1)\n",
    "y=np.array(df[df['bat_ave']<0.375][df['bat_ave']>0.2]['homeruns']).reshape(-1, 1)"
   ]
  },
  {
   "cell_type": "code",
   "execution_count": 20,
   "metadata": {
    "scrolled": true
   },
   "outputs": [],
   "source": [
    "lm=LinearRegression()"
   ]
  },
  {
   "cell_type": "code",
   "execution_count": 21,
   "metadata": {},
   "outputs": [
    {
     "data": {
      "text/plain": [
       "LinearRegression(copy_X=True, fit_intercept=True, n_jobs=None, normalize=False)"
      ]
     },
     "execution_count": 21,
     "metadata": {},
     "output_type": "execute_result"
    }
   ],
   "source": [
    "lm.fit(X,y)"
   ]
  },
  {
   "cell_type": "code",
   "execution_count": 22,
   "metadata": {},
   "outputs": [
    {
     "name": "stdout",
     "output_type": "stream",
     "text": [
      "9.529230137695789\n"
     ]
    }
   ],
   "source": [
    "print(lm.score(X,y)*100)"
   ]
  },
  {
   "cell_type": "code",
   "execution_count": 24,
   "metadata": {},
   "outputs": [],
   "source": [
    "#predicting home runs from linear regression\n",
    "y_pred=lm.predict(X)"
   ]
  },
  {
   "cell_type": "code",
   "execution_count": 26,
   "metadata": {},
   "outputs": [],
   "source": [
    "dfy=pd.DataFrame(y_pred,columns=['Y_predicted'])"
   ]
  },
  {
   "cell_type": "code",
   "execution_count": 27,
   "metadata": {},
   "outputs": [],
   "source": [
    "dfy['Y']=y"
   ]
  },
  {
   "cell_type": "code",
   "execution_count": 28,
   "metadata": {},
   "outputs": [],
   "source": [
    "dfy[\"X\"]=X"
   ]
  },
  {
   "cell_type": "code",
   "execution_count": 29,
   "metadata": {},
   "outputs": [],
   "source": [
    "def checking(r):\n",
    "    r=round(r)\n",
    "    if(r==0):\n",
    "        return \"Fitted value\"\n",
    "    else:\n",
    "        return \"Residual value\""
   ]
  },
  {
   "cell_type": "code",
   "execution_count": 30,
   "metadata": {},
   "outputs": [],
   "source": [
    "dfy['Nature']=dfy['Y']-dfy['Y_predicted']"
   ]
  },
  {
   "cell_type": "code",
   "execution_count": 31,
   "metadata": {},
   "outputs": [],
   "source": [
    "dfy['Status']=dfy['Nature'].apply(checking)"
   ]
  },
  {
   "cell_type": "code",
   "execution_count": 32,
   "metadata": {},
   "outputs": [
    {
     "data": {
      "text/html": [
       "<div>\n",
       "<style scoped>\n",
       "    .dataframe tbody tr th:only-of-type {\n",
       "        vertical-align: middle;\n",
       "    }\n",
       "\n",
       "    .dataframe tbody tr th {\n",
       "        vertical-align: top;\n",
       "    }\n",
       "\n",
       "    .dataframe thead th {\n",
       "        text-align: right;\n",
       "    }\n",
       "</style>\n",
       "<table border=\"1\" class=\"dataframe\">\n",
       "  <thead>\n",
       "    <tr style=\"text-align: right;\">\n",
       "      <th></th>\n",
       "      <th>Y_predicted</th>\n",
       "      <th>Y</th>\n",
       "      <th>X</th>\n",
       "      <th>Nature</th>\n",
       "      <th>Status</th>\n",
       "    </tr>\n",
       "  </thead>\n",
       "  <tbody>\n",
       "    <tr>\n",
       "      <th>0</th>\n",
       "      <td>13.158014</td>\n",
       "      <td>39</td>\n",
       "      <td>0.300</td>\n",
       "      <td>25.841986</td>\n",
       "      <td>Residual value</td>\n",
       "    </tr>\n",
       "    <tr>\n",
       "      <th>1</th>\n",
       "      <td>13.949383</td>\n",
       "      <td>34</td>\n",
       "      <td>0.308</td>\n",
       "      <td>20.050617</td>\n",
       "      <td>Residual value</td>\n",
       "    </tr>\n",
       "    <tr>\n",
       "      <th>2</th>\n",
       "      <td>15.235358</td>\n",
       "      <td>8</td>\n",
       "      <td>0.321</td>\n",
       "      <td>-7.235358</td>\n",
       "      <td>Residual value</td>\n",
       "    </tr>\n",
       "    <tr>\n",
       "      <th>3</th>\n",
       "      <td>12.861250</td>\n",
       "      <td>18</td>\n",
       "      <td>0.297</td>\n",
       "      <td>5.138750</td>\n",
       "      <td>Residual value</td>\n",
       "    </tr>\n",
       "    <tr>\n",
       "      <th>4</th>\n",
       "      <td>13.751541</td>\n",
       "      <td>29</td>\n",
       "      <td>0.306</td>\n",
       "      <td>15.248459</td>\n",
       "      <td>Residual value</td>\n",
       "    </tr>\n",
       "  </tbody>\n",
       "</table>\n",
       "</div>"
      ],
      "text/plain": [
       "   Y_predicted   Y      X     Nature          Status\n",
       "0    13.158014  39  0.300  25.841986  Residual value\n",
       "1    13.949383  34  0.308  20.050617  Residual value\n",
       "2    15.235358   8  0.321  -7.235358  Residual value\n",
       "3    12.861250  18  0.297   5.138750  Residual value\n",
       "4    13.751541  29  0.306  15.248459  Residual value"
      ]
     },
     "execution_count": 32,
     "metadata": {},
     "output_type": "execute_result"
    }
   ],
   "source": [
    "dfy.head()"
   ]
  },
  {
   "cell_type": "markdown",
   "metadata": {},
   "source": [
    "**plot of the residuals versus the fitted values**"
   ]
  },
  {
   "cell_type": "code",
   "execution_count": 86,
   "metadata": {
    "scrolled": true
   },
   "outputs": [
    {
     "data": {
      "text/plain": [
       "<matplotlib.axes._subplots.AxesSubplot at 0x1a413e05b08>"
      ]
     },
     "execution_count": 86,
     "metadata": {},
     "output_type": "execute_result"
    },
    {
     "data": {
      "image/png": "[encoded data removed]",
      "text/plain": [
       "<Figure size 432x288 with 1 Axes>"
      ]
     },
     "metadata": {},
     "output_type": "display_data"
    }
   ],
   "source": [
    "sns.scatterplot(x=dfy['X'],y=dfy['Y_predicted'],hue=dfy['Status'])"
   ]
  },
  {
   "cell_type": "markdown",
   "metadata": {},
   "source": [
    "**As the accruracy was not good from above model, so taking natural log of home runs, and again fitting the values to the regression line**"
   ]
  },
  {
   "cell_type": "code",
   "execution_count": 33,
   "metadata": {
    "scrolled": true
   },
   "outputs": [],
   "source": [
    "X=np.array(df[df['homeruns']!=0]['bat_ave']).reshape(-1,1)\n",
    "y=np.log(np.array(df[df['homeruns']!=0]['homeruns'])).reshape(-1,1)"
   ]
  },
  {
   "cell_type": "code",
   "execution_count": 34,
   "metadata": {},
   "outputs": [
    {
     "data": {
      "text/plain": [
       "LinearRegression(copy_X=True, fit_intercept=True, n_jobs=None, normalize=False)"
      ]
     },
     "execution_count": 34,
     "metadata": {},
     "output_type": "execute_result"
    }
   ],
   "source": [
    "lm.fit(X,y)"
   ]
  },
  {
   "cell_type": "code",
   "execution_count": 35,
   "metadata": {},
   "outputs": [
    {
     "name": "stdout",
     "output_type": "stream",
     "text": [
      "25.411625388819115\n"
     ]
    }
   ],
   "source": [
    "print(lm.score(X,y)*100)"
   ]
  },
  {
   "cell_type": "code",
   "execution_count": 81,
   "metadata": {
    "scrolled": true
   },
   "outputs": [
    {
     "data": {
      "text/html": [
       "<div>\n",
       "<style scoped>\n",
       "    .dataframe tbody tr th:only-of-type {\n",
       "        vertical-align: middle;\n",
       "    }\n",
       "\n",
       "    .dataframe tbody tr th {\n",
       "        vertical-align: top;\n",
       "    }\n",
       "\n",
       "    .dataframe thead th {\n",
       "        text-align: right;\n",
       "    }\n",
       "</style>\n",
       "<table border=\"1\" class=\"dataframe\">\n",
       "  <thead>\n",
       "    <tr style=\"text-align: right;\">\n",
       "      <th></th>\n",
       "      <th>Y_predicted</th>\n",
       "      <th>X</th>\n",
       "      <th>Y</th>\n",
       "      <th>Nature</th>\n",
       "      <th>Status</th>\n",
       "    </tr>\n",
       "  </thead>\n",
       "  <tbody>\n",
       "    <tr>\n",
       "      <th>0</th>\n",
       "      <td>2.494522</td>\n",
       "      <td>0.300</td>\n",
       "      <td>3.663562</td>\n",
       "      <td>1.169040</td>\n",
       "      <td>Residual value</td>\n",
       "    </tr>\n",
       "    <tr>\n",
       "      <th>1</th>\n",
       "      <td>2.611219</td>\n",
       "      <td>0.308</td>\n",
       "      <td>3.526361</td>\n",
       "      <td>0.915142</td>\n",
       "      <td>Residual value</td>\n",
       "    </tr>\n",
       "    <tr>\n",
       "      <th>2</th>\n",
       "      <td>2.800851</td>\n",
       "      <td>0.321</td>\n",
       "      <td>2.079442</td>\n",
       "      <td>-0.721410</td>\n",
       "      <td>Residual value</td>\n",
       "    </tr>\n",
       "    <tr>\n",
       "      <th>3</th>\n",
       "      <td>2.450761</td>\n",
       "      <td>0.297</td>\n",
       "      <td>2.890372</td>\n",
       "      <td>0.439611</td>\n",
       "      <td>Fitted value</td>\n",
       "    </tr>\n",
       "    <tr>\n",
       "      <th>4</th>\n",
       "      <td>2.582045</td>\n",
       "      <td>0.306</td>\n",
       "      <td>3.367296</td>\n",
       "      <td>0.785251</td>\n",
       "      <td>Residual value</td>\n",
       "    </tr>\n",
       "  </tbody>\n",
       "</table>\n",
       "</div>"
      ],
      "text/plain": [
       "   Y_predicted      X         Y    Nature          Status\n",
       "0     2.494522  0.300  3.663562  1.169040  Residual value\n",
       "1     2.611219  0.308  3.526361  0.915142  Residual value\n",
       "2     2.800851  0.321  2.079442 -0.721410  Residual value\n",
       "3     2.450761  0.297  2.890372  0.439611    Fitted value\n",
       "4     2.582045  0.306  3.367296  0.785251  Residual value"
      ]
     },
     "execution_count": 81,
     "metadata": {},
     "output_type": "execute_result"
    }
   ],
   "source": [
    "dfy.head()"
   ]
  },
  {
   "cell_type": "code",
   "execution_count": 69,
   "metadata": {},
   "outputs": [],
   "source": [
    "y_pred=lm.predict(X)"
   ]
  },
  {
   "cell_type": "code",
   "execution_count": 70,
   "metadata": {},
   "outputs": [],
   "source": [
    "dfy=pd.DataFrame(y_pred,columns=['Y_predicted'])"
   ]
  },
  {
   "cell_type": "code",
   "execution_count": 73,
   "metadata": {},
   "outputs": [],
   "source": [
    "dfy[\"X\"]=X\n",
    "dfy[\"Y\"]=y"
   ]
  },
  {
   "cell_type": "code",
   "execution_count": 78,
   "metadata": {},
   "outputs": [],
   "source": [
    "def checking(r):\n",
    "    r=round(r)\n",
    "    if(r==0):\n",
    "        return \"Fitted value\"\n",
    "    else:\n",
    "        return \"Residual value\""
   ]
  },
  {
   "cell_type": "code",
   "execution_count": 79,
   "metadata": {},
   "outputs": [],
   "source": [
    "dfy['Nature']=dfy['Y']-dfy['Y_predicted']"
   ]
  },
  {
   "cell_type": "code",
   "execution_count": 80,
   "metadata": {},
   "outputs": [],
   "source": [
    "dfy['Status']=dfy['Nature'].apply(checking)"
   ]
  },
  {
   "cell_type": "markdown",
   "metadata": {},
   "source": [
    "**plot of the residuals versus the fitted values**"
   ]
  },
  {
   "cell_type": "code",
   "execution_count": 82,
   "metadata": {},
   "outputs": [
    {
     "data": {
      "text/plain": [
       "<matplotlib.axes._subplots.AxesSubplot at 0x1a413e39f08>"
      ]
     },
     "execution_count": 82,
     "metadata": {},
     "output_type": "execute_result"
    },
    {
     "data": {
      "image/png": "[encoded data removed]",
      "text/plain": [
       "<Figure size 432x288 with 1 Axes>"
      ]
     },
     "metadata": {},
     "output_type": "display_data"
    }
   ],
   "source": [
    "sns.scatterplot(x=dfy['X'],y=dfy['Y_predicted'],hue=dfy['Status'])"
   ]
  },
  {
   "cell_type": "code",
   "execution_count": 28,
   "metadata": {},
   "outputs": [
    {
     "name": "stdout",
     "output_type": "stream",
     "text": [
      "y = 14.59x + -1.88\n"
     ]
    }
   ],
   "source": [
    "b=lm.coef_\n",
    "a=lm.intercept_\n",
    "#Linear Regression equation\n",
    "print(\"y = {}x + {}\".format(round(b[0][0],2),round(a[0],2)))"
   ]
  },
  {
   "cell_type": "code",
   "execution_count": 29,
   "metadata": {},
   "outputs": [
    {
     "name": "stdout",
     "output_type": "stream",
     "text": [
      "The value of the y-intercept b0 is -1.882\n"
     ]
    }
   ],
   "source": [
    "print('The value of the y-intercept b0 is',round(a[0],3))"
   ]
  },
  {
   "cell_type": "code",
   "execution_count": 30,
   "metadata": {},
   "outputs": [
    {
     "name": "stdout",
     "output_type": "stream",
     "text": [
      "The value of the slope b1 is  14.587\n"
     ]
    }
   ],
   "source": [
    "print('The value of the slope b1 is ', round(b[0][0],3))"
   ]
  },
  {
   "cell_type": "markdown",
   "metadata": {},
   "source": [
    "**Estimating the number of home runs (not in home runs) for a player with a batting average of 0.300**"
   ]
  },
  {
   "cell_type": "code",
   "execution_count": 36,
   "metadata": {},
   "outputs": [],
   "source": [
    "prediction=lm.predict(np.array(df[df['bat_ave']==.300]['bat_ave']).reshape(-1,1))\n",
    "prediction_dataframe=pd.DataFrame(prediction,columns=['Estimated Home runs'],index=df[df['bat_ave']==.300]['firstname'])"
   ]
  },
  {
   "cell_type": "code",
   "execution_count": 37,
   "metadata": {
    "scrolled": false
   },
   "outputs": [
    {
     "data": {
      "text/html": [
       "<div>\n",
       "<style scoped>\n",
       "    .dataframe tbody tr th:only-of-type {\n",
       "        vertical-align: middle;\n",
       "    }\n",
       "\n",
       "    .dataframe tbody tr th {\n",
       "        vertical-align: top;\n",
       "    }\n",
       "\n",
       "    .dataframe thead th {\n",
       "        text-align: right;\n",
       "    }\n",
       "</style>\n",
       "<table border=\"1\" class=\"dataframe\">\n",
       "  <thead>\n",
       "    <tr style=\"text-align: right;\">\n",
       "      <th></th>\n",
       "      <th>Estimated Home runs</th>\n",
       "    </tr>\n",
       "    <tr>\n",
       "      <th>firstname</th>\n",
       "      <th></th>\n",
       "    </tr>\n",
       "  </thead>\n",
       "  <tbody>\n",
       "    <tr>\n",
       "      <th>Alfonso</th>\n",
       "      <td>2.494522</td>\n",
       "    </tr>\n",
       "    <tr>\n",
       "      <th>Alex</th>\n",
       "      <td>2.494522</td>\n",
       "    </tr>\n",
       "    <tr>\n",
       "      <th>Jacque</th>\n",
       "      <td>2.494522</td>\n",
       "    </tr>\n",
       "    <tr>\n",
       "      <th>John</th>\n",
       "      <td>2.494522</td>\n",
       "    </tr>\n",
       "    <tr>\n",
       "      <th>AJ</th>\n",
       "      <td>2.494522</td>\n",
       "    </tr>\n",
       "    <tr>\n",
       "      <th>Orland</th>\n",
       "      <td>2.494522</td>\n",
       "    </tr>\n",
       "  </tbody>\n",
       "</table>\n",
       "</div>"
      ],
      "text/plain": [
       "           Estimated Home runs\n",
       "firstname                     \n",
       "Alfonso               2.494522\n",
       "Alex                  2.494522\n",
       "Jacque                2.494522\n",
       "John                  2.494522\n",
       "AJ                    2.494522\n",
       "Orland                2.494522"
      ]
     },
     "execution_count": 37,
     "metadata": {},
     "output_type": "execute_result"
    }
   ],
   "source": [
    "prediction_dataframe"
   ]
  },
  {
   "cell_type": "code",
   "execution_count": 38,
   "metadata": {},
   "outputs": [],
   "source": [
    "#adding some more column for further analysis\n",
    "prediction_dataframe['Actual home runs']=pd.DataFrame(np.array(df[df['bat_ave']==.300]['homeruns']),columns=['Actual home runs'],index=df[df['bat_ave']==.300]['firstname'])\n"
   ]
  },
  {
   "cell_type": "code",
   "execution_count": 39,
   "metadata": {},
   "outputs": [],
   "source": [
    "prediction_dataframe['typical error']=prediction_dataframe['Actual home runs']-prediction_dataframe['Estimated Home runs']"
   ]
  },
  {
   "cell_type": "code",
   "execution_count": 40,
   "metadata": {},
   "outputs": [
    {
     "data": {
      "text/html": [
       "<div>\n",
       "<style scoped>\n",
       "    .dataframe tbody tr th:only-of-type {\n",
       "        vertical-align: middle;\n",
       "    }\n",
       "\n",
       "    .dataframe tbody tr th {\n",
       "        vertical-align: top;\n",
       "    }\n",
       "\n",
       "    .dataframe thead th {\n",
       "        text-align: right;\n",
       "    }\n",
       "</style>\n",
       "<table border=\"1\" class=\"dataframe\">\n",
       "  <thead>\n",
       "    <tr style=\"text-align: right;\">\n",
       "      <th></th>\n",
       "      <th>Estimated Home runs</th>\n",
       "      <th>Actual home runs</th>\n",
       "      <th>typical error</th>\n",
       "    </tr>\n",
       "    <tr>\n",
       "      <th>firstname</th>\n",
       "      <th></th>\n",
       "      <th></th>\n",
       "      <th></th>\n",
       "    </tr>\n",
       "  </thead>\n",
       "  <tbody>\n",
       "    <tr>\n",
       "      <th>Alfonso</th>\n",
       "      <td>2.494522</td>\n",
       "      <td>39</td>\n",
       "      <td>36.505478</td>\n",
       "    </tr>\n",
       "    <tr>\n",
       "      <th>Alex</th>\n",
       "      <td>2.494522</td>\n",
       "      <td>57</td>\n",
       "      <td>54.505478</td>\n",
       "    </tr>\n",
       "    <tr>\n",
       "      <th>Jacque</th>\n",
       "      <td>2.494522</td>\n",
       "      <td>27</td>\n",
       "      <td>24.505478</td>\n",
       "    </tr>\n",
       "    <tr>\n",
       "      <th>John</th>\n",
       "      <td>2.494522</td>\n",
       "      <td>22</td>\n",
       "      <td>19.505478</td>\n",
       "    </tr>\n",
       "    <tr>\n",
       "      <th>AJ</th>\n",
       "      <td>2.494522</td>\n",
       "      <td>6</td>\n",
       "      <td>3.505478</td>\n",
       "    </tr>\n",
       "    <tr>\n",
       "      <th>Orland</th>\n",
       "      <td>2.494522</td>\n",
       "      <td>0</td>\n",
       "      <td>-2.494522</td>\n",
       "    </tr>\n",
       "  </tbody>\n",
       "</table>\n",
       "</div>"
      ],
      "text/plain": [
       "           Estimated Home runs  Actual home runs  typical error\n",
       "firstname                                                      \n",
       "Alfonso               2.494522                39      36.505478\n",
       "Alex                  2.494522                57      54.505478\n",
       "Jacque                2.494522                27      24.505478\n",
       "John                  2.494522                22      19.505478\n",
       "AJ                    2.494522                 6       3.505478\n",
       "Orland                2.494522                 0      -2.494522"
      ]
     },
     "execution_count": 40,
     "metadata": {},
     "output_type": "execute_result"
    }
   ],
   "source": [
    "prediction_dataframe"
   ]
  },
  {
   "cell_type": "code",
   "execution_count": 41,
   "metadata": {},
   "outputs": [],
   "source": [
    "prediction_overall=pd.DataFrame(lm.predict(np.array(df['bat_ave']).reshape(-1,1)),columns=['Estimated Homeruns'],index=df['firstname'])"
   ]
  },
  {
   "cell_type": "code",
   "execution_count": 42,
   "metadata": {
    "scrolled": true
   },
   "outputs": [
    {
     "data": {
      "text/html": [
       "<div>\n",
       "<style scoped>\n",
       "    .dataframe tbody tr th:only-of-type {\n",
       "        vertical-align: middle;\n",
       "    }\n",
       "\n",
       "    .dataframe tbody tr th {\n",
       "        vertical-align: top;\n",
       "    }\n",
       "\n",
       "    .dataframe thead th {\n",
       "        text-align: right;\n",
       "    }\n",
       "</style>\n",
       "<table border=\"1\" class=\"dataframe\">\n",
       "  <thead>\n",
       "    <tr style=\"text-align: right;\">\n",
       "      <th></th>\n",
       "      <th>Estimated Homeruns</th>\n",
       "    </tr>\n",
       "    <tr>\n",
       "      <th>firstname</th>\n",
       "      <th></th>\n",
       "    </tr>\n",
       "  </thead>\n",
       "  <tbody>\n",
       "    <tr>\n",
       "      <th>Alfonso</th>\n",
       "      <td>2.494522</td>\n",
       "    </tr>\n",
       "    <tr>\n",
       "      <th>Miguel</th>\n",
       "      <td>2.611219</td>\n",
       "    </tr>\n",
       "    <tr>\n",
       "      <th>Ichiro</th>\n",
       "      <td>2.800851</td>\n",
       "    </tr>\n",
       "    <tr>\n",
       "      <th>Derek</th>\n",
       "      <td>2.450761</td>\n",
       "    </tr>\n",
       "    <tr>\n",
       "      <th>Garret</th>\n",
       "      <td>2.582045</td>\n",
       "    </tr>\n",
       "  </tbody>\n",
       "</table>\n",
       "</div>"
      ],
      "text/plain": [
       "           Estimated Homeruns\n",
       "firstname                    \n",
       "Alfonso              2.494522\n",
       "Miguel               2.611219\n",
       "Ichiro               2.800851\n",
       "Derek                2.450761\n",
       "Garret               2.582045"
      ]
     },
     "execution_count": 42,
     "metadata": {},
     "output_type": "execute_result"
    }
   ],
   "source": [
    "prediction_overall.head()"
   ]
  },
  {
   "cell_type": "code",
   "execution_count": 43,
   "metadata": {},
   "outputs": [],
   "source": [
    "prediction_overall['Actual homeruns']=pd.DataFrame(np.array(df['homeruns']),columns=['Actual home runs'],index=df['firstname'])"
   ]
  },
  {
   "cell_type": "markdown",
   "metadata": {},
   "source": [
    "**size of the typical error in predicting the number of home runs, based on the player's batting average**"
   ]
  },
  {
   "cell_type": "code",
   "execution_count": 134,
   "metadata": {},
   "outputs": [
    {
     "data": {
      "text/html": [
       "<div>\n",
       "<style scoped>\n",
       "    .dataframe tbody tr th:only-of-type {\n",
       "        vertical-align: middle;\n",
       "    }\n",
       "\n",
       "    .dataframe tbody tr th {\n",
       "        vertical-align: top;\n",
       "    }\n",
       "\n",
       "    .dataframe thead th {\n",
       "        text-align: right;\n",
       "    }\n",
       "</style>\n",
       "<table border=\"1\" class=\"dataframe\">\n",
       "  <thead>\n",
       "    <tr style=\"text-align: right;\">\n",
       "      <th></th>\n",
       "      <th>Estimated Homeruns</th>\n",
       "      <th>Actual homeruns</th>\n",
       "    </tr>\n",
       "    <tr>\n",
       "      <th>firstname</th>\n",
       "      <th></th>\n",
       "      <th></th>\n",
       "    </tr>\n",
       "  </thead>\n",
       "  <tbody>\n",
       "    <tr>\n",
       "      <th>Alfonso</th>\n",
       "      <td>2.494522</td>\n",
       "      <td>39</td>\n",
       "    </tr>\n",
       "    <tr>\n",
       "      <th>Miguel</th>\n",
       "      <td>2.611219</td>\n",
       "      <td>34</td>\n",
       "    </tr>\n",
       "    <tr>\n",
       "      <th>Ichiro</th>\n",
       "      <td>2.800851</td>\n",
       "      <td>8</td>\n",
       "    </tr>\n",
       "    <tr>\n",
       "      <th>Derek</th>\n",
       "      <td>2.450761</td>\n",
       "      <td>18</td>\n",
       "    </tr>\n",
       "    <tr>\n",
       "      <th>Garret</th>\n",
       "      <td>2.582045</td>\n",
       "      <td>29</td>\n",
       "    </tr>\n",
       "  </tbody>\n",
       "</table>\n",
       "</div>"
      ],
      "text/plain": [
       "           Estimated Homeruns  Actual homeruns\n",
       "firstname                                     \n",
       "Alfonso              2.494522               39\n",
       "Miguel               2.611219               34\n",
       "Ichiro               2.800851                8\n",
       "Derek                2.450761               18\n",
       "Garret               2.582045               29"
      ]
     },
     "execution_count": 134,
     "metadata": {},
     "output_type": "execute_result"
    }
   ],
   "source": [
    "prediction_overall.head()"
   ]
  },
  {
   "cell_type": "code",
   "execution_count": 44,
   "metadata": {},
   "outputs": [],
   "source": [
    "prediction_overall['Typical Error']=((prediction_overall['Actual homeruns']-prediction_overall['Estimated Homeruns'])/prediction_overall['Actual homeruns'])*100"
   ]
  },
  {
   "cell_type": "code",
   "execution_count": 45,
   "metadata": {
    "scrolled": true
   },
   "outputs": [
    {
     "data": {
      "text/html": [
       "<div>\n",
       "<style scoped>\n",
       "    .dataframe tbody tr th:only-of-type {\n",
       "        vertical-align: middle;\n",
       "    }\n",
       "\n",
       "    .dataframe tbody tr th {\n",
       "        vertical-align: top;\n",
       "    }\n",
       "\n",
       "    .dataframe thead th {\n",
       "        text-align: right;\n",
       "    }\n",
       "</style>\n",
       "<table border=\"1\" class=\"dataframe\">\n",
       "  <thead>\n",
       "    <tr style=\"text-align: right;\">\n",
       "      <th></th>\n",
       "      <th>Estimated Homeruns</th>\n",
       "      <th>Actual homeruns</th>\n",
       "      <th>Typical Error</th>\n",
       "    </tr>\n",
       "    <tr>\n",
       "      <th>firstname</th>\n",
       "      <th></th>\n",
       "      <th></th>\n",
       "      <th></th>\n",
       "    </tr>\n",
       "  </thead>\n",
       "  <tbody>\n",
       "    <tr>\n",
       "      <th>Alfonso</th>\n",
       "      <td>2.494522</td>\n",
       "      <td>39</td>\n",
       "      <td>93.603789</td>\n",
       "    </tr>\n",
       "    <tr>\n",
       "      <th>Miguel</th>\n",
       "      <td>2.611219</td>\n",
       "      <td>34</td>\n",
       "      <td>92.319944</td>\n",
       "    </tr>\n",
       "    <tr>\n",
       "      <th>Ichiro</th>\n",
       "      <td>2.800851</td>\n",
       "      <td>8</td>\n",
       "      <td>64.989359</td>\n",
       "    </tr>\n",
       "    <tr>\n",
       "      <th>Derek</th>\n",
       "      <td>2.450761</td>\n",
       "      <td>18</td>\n",
       "      <td>86.384662</td>\n",
       "    </tr>\n",
       "    <tr>\n",
       "      <th>Garret</th>\n",
       "      <td>2.582045</td>\n",
       "      <td>29</td>\n",
       "      <td>91.096397</td>\n",
       "    </tr>\n",
       "  </tbody>\n",
       "</table>\n",
       "</div>"
      ],
      "text/plain": [
       "           Estimated Homeruns  Actual homeruns  Typical Error\n",
       "firstname                                                    \n",
       "Alfonso              2.494522               39      93.603789\n",
       "Miguel               2.611219               34      92.319944\n",
       "Ichiro               2.800851                8      64.989359\n",
       "Derek                2.450761               18      86.384662\n",
       "Garret               2.582045               29      91.096397"
      ]
     },
     "execution_count": 45,
     "metadata": {},
     "output_type": "execute_result"
    }
   ],
   "source": [
    "prediction_overall.head()"
   ]
  },
  {
   "cell_type": "markdown",
   "metadata": {},
   "source": [
    "**Performing the hypothesis test for determining whether a linear relationship exists between the variables**"
   ]
  },
  {
   "cell_type": "code",
   "execution_count": 46,
   "metadata": {},
   "outputs": [
    {
     "name": "stdout",
     "output_type": "stream",
     "text": [
      "----------------------------------------------\n",
      "chi-square test ==>\n",
      "Dependent (reject H0)---->a linear relationship exists between the variables.\n",
      "----------------------------------------------\n",
      "interpret p-value===>  significance=0.050, p=0.000\n",
      "Dependent (reject H0)----->a linear relationship exists between the variables.\n",
      "----------------------------------------------\n"
     ]
    }
   ],
   "source": [
    "from scipy.stats import chi2_contingency\n",
    "from scipy.stats import chi2\n",
    "# contingency table\n",
    "stat, p, dof, expected = chi2_contingency(df.drop(['firstname','lastname','team'],axis=1))\n",
    "# interpret test-statistic\n",
    "prob = 0.95\n",
    "critical = chi2.ppf(prob, dof)\n",
    "\n",
    "print(\"----------------------------------------------\")\n",
    "print(\"chi-square test ==>\")\n",
    "if abs(stat) >= critical:\n",
    "\tprint('Dependent (reject H0)---->a linear relationship exists between the variables.')\n",
    "else:\n",
    "\tprint('Independent (fail to reject H0)---->a linear relationship doesn\\'t exist between the variables.')\n",
    "print(\"----------------------------------------------\")\n",
    "print(\"interpret p-value===> \", end=\" \")\n",
    "alpha = 1.0 - prob\n",
    "print('significance=%.3f, p=%.3f' % (alpha, p))\n",
    "if p <= alpha:\n",
    "\tprint('Dependent (reject H0)----->a linear relationship exists between the variables.')\n",
    "else:\n",
    "\tprint('Independent (fail to reject H0)---->a linear relationship doesn\\'t exist between the variables.')\n",
    "print(\"----------------------------------------------\")"
   ]
  },
  {
   "cell_type": "markdown",
   "metadata": {},
   "source": [
    "**Calculating the correlation coefficient**"
   ]
  },
  {
   "cell_type": "code",
   "execution_count": 47,
   "metadata": {},
   "outputs": [
    {
     "data": {
      "text/plain": [
       "0.10125662540452778"
      ]
     },
     "execution_count": 47,
     "metadata": {},
     "output_type": "execute_result"
    }
   ],
   "source": [
    "np.corrcoef(df['bat_ave'],df['homeruns'])[0, 1]"
   ]
  },
  {
   "cell_type": "markdown",
   "metadata": {},
   "source": [
    "**Constructing 95% confidence interval for the mean number of home runs for all players who had a batting average of 0.300**"
   ]
  },
  {
   "cell_type": "code",
   "execution_count": 48,
   "metadata": {},
   "outputs": [],
   "source": [
    "from scipy import stats"
   ]
  },
  {
   "cell_type": "code",
   "execution_count": 49,
   "metadata": {},
   "outputs": [
    {
     "data": {
      "text/plain": [
       "(0.10125662540452787, 0.0657733200170717)"
      ]
     },
     "execution_count": 49,
     "metadata": {},
     "output_type": "execute_result"
    }
   ],
   "source": [
    "r, p = stats.pearsonr(df['bat_ave'],df['homeruns'])\n",
    "r,p"
   ]
  },
  {
   "cell_type": "code",
   "execution_count": 50,
   "metadata": {},
   "outputs": [
    {
     "data": {
      "text/plain": [
       "0.10160482814088584"
      ]
     },
     "execution_count": 50,
     "metadata": {},
     "output_type": "execute_result"
    }
   ],
   "source": [
    "r_z = np.arctanh(r)\n",
    "r_z"
   ]
  },
  {
   "cell_type": "markdown",
   "metadata": {},
   "source": [
    "The corresponding standard deviation is \n",
    "s\n",
    "e\n",
    "=\n",
    "1\n",
    "√\n",
    "N\n",
    "−\n",
    "3\n",
    ":"
   ]
  },
  {
   "cell_type": "code",
   "execution_count": 51,
   "metadata": {},
   "outputs": [
    {
     "data": {
      "text/plain": [
       "0.05521576303742327"
      ]
     },
     "execution_count": 51,
     "metadata": {},
     "output_type": "execute_result"
    }
   ],
   "source": [
    "se = 1/np.sqrt(df['bat_ave'].size-3)\n",
    "se"
   ]
  },
  {
   "cell_type": "code",
   "execution_count": 52,
   "metadata": {},
   "outputs": [
    {
     "data": {
      "text/plain": [
       "(-0.00661607879136171, 0.2098257350731334)"
      ]
     },
     "execution_count": 52,
     "metadata": {},
     "output_type": "execute_result"
    }
   ],
   "source": [
    "alpha = 0.05\n",
    "z = stats.norm.ppf(1-alpha/2)\n",
    "lo_z, hi_z = r_z-z*se, r_z+z*se\n",
    "lo_z, hi_z"
   ]
  },
  {
   "cell_type": "code",
   "execution_count": 53,
   "metadata": {},
   "outputs": [
    {
     "data": {
      "text/plain": [
       "(-0.006615982258952076, 0.2067996934492192)"
      ]
     },
     "execution_count": 53,
     "metadata": {},
     "output_type": "execute_result"
    }
   ],
   "source": [
    "lo, hi = np.tanh((lo_z, hi_z))\n",
    "lo, hi"
   ]
  },
  {
   "cell_type": "markdown",
   "metadata": {},
   "source": [
    "**Constructing a 95% confidence interval for a randomly chosen player with a 0.300 batting average**"
   ]
  },
  {
   "cell_type": "code",
   "execution_count": 54,
   "metadata": {},
   "outputs": [],
   "source": [
    "import statistics"
   ]
  },
  {
   "cell_type": "code",
   "execution_count": 55,
   "metadata": {},
   "outputs": [],
   "source": [
    "populationStdev=statistics.stdev(df['bat_ave'])"
   ]
  },
  {
   "cell_type": "code",
   "execution_count": 56,
   "metadata": {},
   "outputs": [],
   "source": [
    "meanvalue=0.300-(populationStdev*z)"
   ]
  },
  {
   "cell_type": "code",
   "execution_count": 57,
   "metadata": {},
   "outputs": [
    {
     "data": {
      "text/plain": [
       "0.12065743922615205"
      ]
     },
     "execution_count": 57,
     "metadata": {},
     "output_type": "execute_result"
    }
   ],
   "source": [
    "meanvalue"
   ]
  },
  {
   "cell_type": "code",
   "execution_count": 58,
   "metadata": {},
   "outputs": [
    {
     "data": {
      "text/plain": [
       "array([[-0.12156665]])"
      ]
     },
     "execution_count": 58,
     "metadata": {},
     "output_type": "execute_result"
    }
   ],
   "source": [
    "lm.predict(np.array(meanvalue).reshape(1, -1))"
   ]
  },
  {
   "cell_type": "markdown",
   "metadata": {},
   "source": [
    "# Outliers-->"
   ]
  },
  {
   "cell_type": "code",
   "execution_count": 124,
   "metadata": {},
   "outputs": [
    {
     "data": {
      "text/plain": [
       "<matplotlib.axes._subplots.AxesSubplot at 0x1a4191a9488>"
      ]
     },
     "execution_count": 124,
     "metadata": {},
     "output_type": "execute_result"
    },
    {
     "data": {
      "image/png": "[encoded data removed]",
      "text/plain": [
       "<Figure size 432x288 with 1 Axes>"
      ]
     },
     "metadata": {},
     "output_type": "display_data"
    }
   ],
   "source": [
    "sns.boxplot(df['bat_ave'])"
   ]
  },
  {
   "cell_type": "code",
   "execution_count": 125,
   "metadata": {},
   "outputs": [
    {
     "data": {
      "text/plain": [
       "<matplotlib.axes._subplots.AxesSubplot at 0x1a40d058308>"
      ]
     },
     "execution_count": 125,
     "metadata": {},
     "output_type": "execute_result"
    },
    {
     "data": {
      "image/png": "[encoded data removed]",
      "text/plain": [
       "<Figure size 432x288 with 1 Axes>"
      ]
     },
     "metadata": {},
     "output_type": "display_data"
    }
   ],
   "source": [
    "sns.boxplot(df['homeruns'])"
   ]
  },
  {
   "cell_type": "code",
   "execution_count": null,
   "metadata": {},
   "outputs": [],
   "source": []
  },
  {
   "cell_type": "code",
   "execution_count": null,
   "metadata": {},
   "outputs": [],
   "source": []
  }
 ],
 "metadata": {
  "kernelspec": {
   "display_name": "Python 3",
   "language": "python",
   "name": "python3"
  },
  "language_info": {
   "codemirror_mode": {
    "name": "ipython",
    "version": 3
   },
   "file_extension": ".py",
   "mimetype": "text/x-python",
   "name": "python",
   "nbconvert_exporter": "python",
   "pygments_lexer": "ipython3",
   "version": "3.7.6"
  }
 },
 "nbformat": 4,
 "nbformat_minor": 2
}
